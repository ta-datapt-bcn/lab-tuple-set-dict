{
 "cells": [
  {
   "cell_type": "markdown",
   "metadata": {},
   "source": [
    "## Challenge 2: Sets\n",
    "\n",
    "There are a lot to learn about Python Sets and the information presented in the lesson is limited due to its length. To learn Python Sets in depth you are strongly encouraged to review the W3Schools tutorial on [Python Sets Examples and Methods](https://www.w3schools.com/python/python_sets.asp) before you work on this lab. Some difficult questions in this lab have their solutions in the W3Schools tutorial.\n",
    "\n",
    "#### First, import the Python `random` libary"
   ]
  },
  {
   "cell_type": "code",
   "execution_count": 1,
   "metadata": {},
   "outputs": [],
   "source": [
    "import random"
   ]
  },
  {
   "cell_type": "markdown",
   "metadata": {},
   "source": [
    "#### In the cell below, create a list named `sample_list_1` with 80 random values. \n",
    "\n",
    "Requirements:\n",
    "\n",
    "* Each value is an integer falling between 0 and 100.\n",
    "* Each value in the list is unique.\n",
    "\n",
    "Print `sample_list_1` to review its values\n",
    "\n",
    "*Hint: use `random.sample` ([reference](https://docs.python.org/3/library/random.html#random.sample)).*"
   ]
  },
  {
   "cell_type": "code",
   "execution_count": 2,
   "metadata": {},
   "outputs": [
    {
     "name": "stdout",
     "output_type": "stream",
     "text": [
      "[36, 31, 11, 16, 68, 15, 46, 70, 30, 47, 76, 84, 40, 86, 14, 77, 34, 49, 80, 45, 50, 95, 2, 89, 29, 88, 17, 8, 10, 85, 48, 82, 67, 90, 32, 71, 66, 44, 65, 54, 19, 9, 7, 38, 24, 83, 5, 51, 81, 52, 97, 56, 75, 74, 6, 78, 61, 93, 72, 55, 96, 39, 0, 42, 1, 12, 21, 62, 27, 69, 91, 28, 92, 58, 98, 63, 94, 43, 26, 60]\n",
      "80\n"
     ]
    }
   ],
   "source": [
    "sample_list_1 = random.sample(range(101), 80)\n",
    "print(sample_list_1)\n",
    "print(len(sample_list_1))"
   ]
  },
  {
   "cell_type": "markdown",
   "metadata": {},
   "source": [
    "#### Convert `sample_list_1` to a set called `set1`. Print the length of the set. Is its length still 80?"
   ]
  },
  {
   "cell_type": "code",
   "execution_count": 3,
   "metadata": {},
   "outputs": [
    {
     "name": "stdout",
     "output_type": "stream",
     "text": [
      "{0, 1, 2, 5, 6, 7, 8, 9, 10, 11, 12, 14, 15, 16, 17, 19, 21, 24, 26, 27, 28, 29, 30, 31, 32, 34, 36, 38, 39, 40, 42, 43, 44, 45, 46, 47, 48, 49, 50, 51, 52, 54, 55, 56, 58, 60, 61, 62, 63, 65, 66, 67, 68, 69, 70, 71, 72, 74, 75, 76, 77, 78, 80, 81, 82, 83, 84, 85, 86, 88, 89, 90, 91, 92, 93, 94, 95, 96, 97, 98}\n",
      "80\n"
     ]
    }
   ],
   "source": [
    "set1 = set(sample_list_1)\n",
    "print(set1)\n",
    "print(len(set1))\n",
    "\n",
    "# The length is the same as the function random.sample because this function makes a random selection without replacement\n",
    "# so all the values in the list are unique"
   ]
  },
  {
   "cell_type": "markdown",
   "metadata": {},
   "source": [
    "#### Create another list named `sample_list_2` with 80 random values.\n",
    "\n",
    "Requirements:\n",
    "\n",
    "* Each value is an integer falling between 0 and 100.\n",
    "* The values in the list don't have to be unique.\n",
    "\n",
    "*Hint: Use a FOR loop.*"
   ]
  },
  {
   "cell_type": "code",
   "execution_count": 4,
   "metadata": {},
   "outputs": [
    {
     "name": "stdout",
     "output_type": "stream",
     "text": [
      "[11, 7, 42, 25, 0, 47, 74, 61, 38, 70, 68, 86, 59, 97, 38, 3, 30, 91, 90, 98, 64, 59, 52, 59, 97, 32, 31, 98, 11, 4, 7, 41, 0, 73, 77, 92, 60, 50, 51, 3, 46, 33, 97, 87, 6, 23, 73, 56, 44, 41, 83, 75, 73, 63, 60, 23, 60, 72, 31, 93, 62, 47, 39, 100, 15, 9, 85, 80, 17, 90, 99, 57, 23, 29, 17, 41, 49, 52, 91, 13]\n",
      "80\n"
     ]
    }
   ],
   "source": [
    "sample_list_2 = [random.randrange(101) for i in range(80)]\n",
    "print(sample_list_2)\n",
    "print(len(sample_list_2))"
   ]
  },
  {
   "cell_type": "markdown",
   "metadata": {},
   "source": [
    "#### Convert `sample_list_2` to a set called `set2`. Print the length of the set. Is its length still 80?"
   ]
  },
  {
   "cell_type": "code",
   "execution_count": 5,
   "metadata": {},
   "outputs": [
    {
     "name": "stdout",
     "output_type": "stream",
     "text": [
      "{0, 3, 4, 6, 7, 9, 11, 13, 15, 17, 23, 25, 29, 30, 31, 32, 33, 38, 39, 41, 42, 44, 46, 47, 49, 50, 51, 52, 56, 57, 59, 60, 61, 62, 63, 64, 68, 70, 72, 73, 74, 75, 77, 80, 83, 85, 86, 87, 90, 91, 92, 93, 97, 98, 99, 100}\n",
      "56\n"
     ]
    }
   ],
   "source": [
    "set2 = set(sample_list_2)\n",
    "print(set2)\n",
    "print(len(set2))\n",
    "\n",
    "# The length is not the same as the function random.randrange because this function makes a random selection with replacement\n",
    "# so all the values in the list can be repited"
   ]
  },
  {
   "cell_type": "markdown",
   "metadata": {},
   "source": [
    "#### Identify the elements present in `set1` but not in `set2`. Assign the elements to a new set named `set3`."
   ]
  },
  {
   "cell_type": "code",
   "execution_count": 6,
   "metadata": {},
   "outputs": [
    {
     "name": "stdout",
     "output_type": "stream",
     "text": [
      "{1, 2, 5, 8, 10, 12, 14, 16, 19, 21, 24, 26, 27, 28, 34, 36, 40, 43, 45, 48, 54, 55, 58, 65, 66, 67, 69, 71, 76, 78, 81, 82, 84, 88, 89, 94, 95, 96}\n",
      "38\n"
     ]
    }
   ],
   "source": [
    "set3 = set1-set2\n",
    "print(set3)\n",
    "print(len(set3))\n"
   ]
  },
  {
   "cell_type": "markdown",
   "metadata": {},
   "source": [
    "#### Identify the elements present in `set2` but not in `set1`. Assign the elements to a new set named `set4`."
   ]
  },
  {
   "cell_type": "code",
   "execution_count": 7,
   "metadata": {},
   "outputs": [
    {
     "name": "stdout",
     "output_type": "stream",
     "text": [
      "{64, 33, 3, 4, 99, 100, 41, 73, 13, 87, 23, 25, 59, 57}\n",
      "14\n"
     ]
    }
   ],
   "source": [
    "set4 = set2-set1\n",
    "print(set4)\n",
    "print(len(set4))"
   ]
  },
  {
   "cell_type": "markdown",
   "metadata": {},
   "source": [
    "#### Now Identify the elements shared between `set1` and `set2`. Assign the elements to a new set named `set5`."
   ]
  },
  {
   "cell_type": "code",
   "execution_count": 8,
   "metadata": {},
   "outputs": [
    {
     "name": "stdout",
     "output_type": "stream",
     "text": [
      "{0, 6, 7, 9, 11, 15, 17, 29, 30, 31, 32, 38, 39, 42, 44, 46, 47, 49, 50, 51, 52, 56, 60, 61, 62, 63, 68, 70, 72, 74, 75, 77, 80, 83, 85, 86, 90, 91, 92, 93, 97, 98}\n",
      "42\n"
     ]
    }
   ],
   "source": [
    "set5 = set1 & set2\n",
    "print(set5)\n",
    "print(len(set5))\n"
   ]
  },
  {
   "cell_type": "markdown",
   "metadata": {},
   "source": [
    "#### What is the relationship among the following values:\n",
    "\n",
    "* len(set1)\n",
    "* len(set2)\n",
    "* len(set3)\n",
    "* len(set4)\n",
    "* len(set5)\n",
    "\n",
    "Use a math formular to represent that relationship. Test your formular with Python code."
   ]
  },
  {
   "cell_type": "code",
   "execution_count": 9,
   "metadata": {},
   "outputs": [
    {
     "name": "stdout",
     "output_type": "stream",
     "text": [
      "(set1 - set2) + (set1 & set2) = set1\n",
      "(set2 - set1) + (set1 & set2) = set1\n"
     ]
    }
   ],
   "source": [
    "# (set1 - set2) + (set1 & set2) = set1\n",
    "# (set2 - set1) + (set1 & set2) = set2\n",
    "\n",
    "if (set1 - set2).union(set1 & set2) == set1:\n",
    "    print(\"(set1 - set2) + (set1 & set2) = set1\")\n",
    "else:\n",
    "    print(\"(set1 - set2) + (set1 & set2) != set1\")\n",
    "    \n",
    "if (set2 - set1).union(set1 & set2) == set2:\n",
    "    print(\"(set2 - set1) + (set1 & set2) = set1\")\n",
    "else:\n",
    "    print(\"(set2 - set1) + (set1 & set2) != set1\")\n"
   ]
  },
  {
   "cell_type": "markdown",
   "metadata": {},
   "source": [
    "#### Create an empty set called `set6`."
   ]
  },
  {
   "cell_type": "code",
   "execution_count": 10,
   "metadata": {},
   "outputs": [
    {
     "data": {
      "text/plain": [
       "set"
      ]
     },
     "execution_count": 10,
     "metadata": {},
     "output_type": "execute_result"
    }
   ],
   "source": [
    "set6 = set()\n",
    "type(set6)\n"
   ]
  },
  {
   "cell_type": "markdown",
   "metadata": {},
   "source": [
    "#### Add `set3` and `set5` to `set6` using the Python Set `update` method."
   ]
  },
  {
   "cell_type": "code",
   "execution_count": 11,
   "metadata": {},
   "outputs": [
    {
     "name": "stdout",
     "output_type": "stream",
     "text": [
      "{0, 1, 2, 5, 6, 7, 8, 9, 10, 11, 12, 14, 15, 16, 17, 19, 21, 24, 26, 27, 28, 29, 30, 31, 32, 34, 36, 38, 39, 40, 42, 43, 44, 45, 46, 47, 48, 49, 50, 51, 52, 54, 55, 56, 58, 60, 61, 62, 63, 65, 66, 67, 68, 69, 70, 71, 72, 74, 75, 76, 77, 78, 80, 81, 82, 83, 84, 85, 86, 88, 89, 90, 91, 92, 93, 94, 95, 96, 97, 98}\n"
     ]
    }
   ],
   "source": [
    "set6.update(set3, set5)\n",
    "print(set6)\n"
   ]
  },
  {
   "cell_type": "markdown",
   "metadata": {},
   "source": [
    "#### Check if `set1` and `set6` are equal."
   ]
  },
  {
   "cell_type": "code",
   "execution_count": 12,
   "metadata": {},
   "outputs": [
    {
     "data": {
      "text/plain": [
       "True"
      ]
     },
     "execution_count": 12,
     "metadata": {},
     "output_type": "execute_result"
    }
   ],
   "source": [
    "set1 == set6\n"
   ]
  },
  {
   "cell_type": "markdown",
   "metadata": {},
   "source": [
    "#### Check if `set1` contains `set2` using the Python Set `issubset` method. Then check if `set1` contains `set3`.*"
   ]
  },
  {
   "cell_type": "code",
   "execution_count": 13,
   "metadata": {},
   "outputs": [
    {
     "name": "stdout",
     "output_type": "stream",
     "text": [
      "set 2 is not a subset of set 1\n",
      "set 3 is a subset of set 1\n"
     ]
    }
   ],
   "source": [
    "if set2.issubset(set1):\n",
    "    print(\"set 2 is a subset of set 1\")\n",
    "else:\n",
    "    print(\"set 2 is not a subset of set 1\")\n",
    "\n",
    "if set3.issubset(set1):\n",
    "    print(\"set 3 is a subset of set 1\")\n",
    "else:\n",
    "    print(\"set 3 is not a subset of set 1\")"
   ]
  },
  {
   "cell_type": "markdown",
   "metadata": {},
   "source": [
    "#### Using the Python Set `union` method, aggregate `set3`, `set4`, and `set5`. Then aggregate `set1` and `set2`. \n",
    "\n",
    "#### Check if the aggregated values are equal."
   ]
  },
  {
   "cell_type": "code",
   "execution_count": 14,
   "metadata": {},
   "outputs": [
    {
     "data": {
      "text/plain": [
       "True"
      ]
     },
     "execution_count": 14,
     "metadata": {},
     "output_type": "execute_result"
    }
   ],
   "source": [
    "agr345 = set3.union(set4, set5)\n",
    "agr12 = set1.union(set2)\n",
    "\n",
    "agr345 == agr12\n"
   ]
  },
  {
   "cell_type": "markdown",
   "metadata": {},
   "source": [
    "#### Using the `pop` method, remove the first element from `set1`."
   ]
  },
  {
   "cell_type": "code",
   "execution_count": 15,
   "metadata": {},
   "outputs": [
    {
     "name": "stdout",
     "output_type": "stream",
     "text": [
      "79\n"
     ]
    }
   ],
   "source": [
    "set1 = list(set1)\n",
    "set1.pop(0)\n",
    "print(len(set1))\n",
    "\n",
    "# pop() in set removes a random value. If we want to choose the index we have to change format to list and use pop(index)"
   ]
  },
  {
   "cell_type": "markdown",
   "metadata": {},
   "source": [
    "#### Remove every element in the following list from `set1` if they are present in the set. Print the remaining elements.\n",
    "\n",
    "```\n",
    "list_to_remove = [1, 9, 11, 19, 21, 29, 31, 39, 41, 49, 51, 59, 61, 69, 71, 79, 81, 89, 91, 99]\n",
    "```"
   ]
  },
  {
   "cell_type": "code",
   "execution_count": 16,
   "metadata": {},
   "outputs": [
    {
     "name": "stdout",
     "output_type": "stream",
     "text": [
      "{2, 5, 6, 7, 8, 10, 12, 14, 15, 16, 17, 24, 26, 27, 28, 30, 32, 34, 36, 38, 40, 42, 43, 44, 45, 46, 47, 48, 50, 52, 54, 55, 56, 58, 60, 62, 63, 65, 66, 67, 68, 70, 72, 74, 75, 76, 77, 78, 80, 82, 83, 84, 85, 86, 88, 90, 92, 93, 94, 95, 96, 97, 98}\n"
     ]
    }
   ],
   "source": [
    "# in order to make a substraction I will change format from list to set so I can use function .difference\n",
    "\n",
    "list_to_remove = [1, 9, 11, 19, 21, 29, 31, 39, 41, 49, 51, 59, 61, 69, 71, 79, 81, 89, 91, 99]\n",
    "\n",
    "set1 = set(set1)\n",
    "set_to_remove = set(list_to_remove)\n",
    "\n",
    "set1 = set1 - set_to_remove\n",
    "\n",
    "print(set1)\n"
   ]
  }
 ],
 "metadata": {
  "kernelspec": {
   "display_name": "Python 3",
   "language": "python",
   "name": "python3"
  },
  "language_info": {
   "codemirror_mode": {
    "name": "ipython",
    "version": 3
   },
   "file_extension": ".py",
   "mimetype": "text/x-python",
   "name": "python",
   "nbconvert_exporter": "python",
   "pygments_lexer": "ipython3",
   "version": "3.8.3"
  },
  "toc": {
   "base_numbering": 1,
   "nav_menu": {},
   "number_sections": true,
   "sideBar": true,
   "skip_h1_title": false,
   "title_cell": "Table of Contents",
   "title_sidebar": "Contents",
   "toc_cell": false,
   "toc_position": {},
   "toc_section_display": true,
   "toc_window_display": false
  },
  "varInspector": {
   "cols": {
    "lenName": 16,
    "lenType": 16,
    "lenVar": 40
   },
   "kernels_config": {
    "python": {
     "delete_cmd_postfix": "",
     "delete_cmd_prefix": "del ",
     "library": "var_list.py",
     "varRefreshCmd": "print(var_dic_list())"
    },
    "r": {
     "delete_cmd_postfix": ") ",
     "delete_cmd_prefix": "rm(",
     "library": "var_list.r",
     "varRefreshCmd": "cat(var_dic_list()) "
    }
   },
   "types_to_exclude": [
    "module",
    "function",
    "builtin_function_or_method",
    "instance",
    "_Feature"
   ],
   "window_display": false
  }
 },
 "nbformat": 4,
 "nbformat_minor": 2
}
