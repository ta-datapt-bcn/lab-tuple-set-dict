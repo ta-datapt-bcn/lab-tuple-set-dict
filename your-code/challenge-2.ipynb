{
 "cells": [
  {
   "cell_type": "markdown",
   "metadata": {},
   "source": [
    "## Challenge 2: Sets\n",
    "\n",
    "There are a lot to learn about Python Sets and the information presented in the lesson is limited due to its length. To learn Python Sets in depth you are strongly encouraged to review the W3Schools tutorial on [Python Sets Examples and Methods](https://www.w3schools.com/python/python_sets.asp) before you work on this lab. Some difficult questions in this lab have their solutions in the W3Schools tutorial.\n",
    "\n",
    "#### First, import the Python `random` libary"
   ]
  },
  {
   "cell_type": "code",
   "execution_count": 33,
   "metadata": {},
   "outputs": [],
   "source": [
    "import random"
   ]
  },
  {
   "cell_type": "markdown",
   "metadata": {},
   "source": [
    "#### In the cell below, create a list named `sample_list_1` with 80 random values. \n",
    "\n",
    "Requirements:\n",
    "\n",
    "* Each value is an integer falling between 0 and 100.\n",
    "* Each value in the list is unique.\n",
    "\n",
    "Print `sample_list_1` to review its values\n",
    "\n",
    "*Hint: use `random.sample` ([reference](https://docs.python.org/3/library/random.html#random.sample)).*"
   ]
  },
  {
   "cell_type": "code",
   "execution_count": 34,
   "metadata": {},
   "outputs": [
    {
     "name": "stdout",
     "output_type": "stream",
     "text": [
      "[42, 70, 34, 28, 31, 85, 64, 1, 66, 99, 79, 7, 97, 6, 26, 81, 23, 75, 15, 67, 69, 33, 59, 95, 84, 41, 30, 65, 58, 12, 8, 47, 63, 56, 92, 52, 36, 93, 37, 2, 68, 78, 9, 83, 57, 35, 87, 46, 91, 98, 45, 53, 29, 14, 3, 17, 90, 48, 21, 74, 62, 80, 96, 60, 16, 10, 76, 54, 72, 0, 88, 44, 13, 51, 18, 24, 49, 25, 5, 43]\n"
     ]
    }
   ],
   "source": [
    "# Your code here\n",
    "sample_list_1 = random.sample(range(100),k=80)\n",
    "print(sample_list_1)"
   ]
  },
  {
   "cell_type": "markdown",
   "metadata": {},
   "source": [
    "#### Convert `sample_list_1` to a set called `set1`. Print the length of the set. Is its length still 80?"
   ]
  },
  {
   "cell_type": "code",
   "execution_count": 35,
   "metadata": {},
   "outputs": [
    {
     "name": "stdout",
     "output_type": "stream",
     "text": [
      "80\n"
     ]
    }
   ],
   "source": [
    "# Your code here\n",
    "set1 = set(sample_list_1)\n",
    "print(len(set1))"
   ]
  },
  {
   "cell_type": "markdown",
   "metadata": {},
   "source": [
    "#### Create another list named `sample_list_2` with 80 random values.\n",
    "\n",
    "Requirements:\n",
    "\n",
    "* Each value is an integer falling between 0 and 100.\n",
    "* The values in the list don't have to be unique.\n",
    "\n",
    "*Hint: Use a FOR loop.*"
   ]
  },
  {
   "cell_type": "code",
   "execution_count": 36,
   "metadata": {},
   "outputs": [
    {
     "name": "stdout",
     "output_type": "stream",
     "text": [
      "[20, 100, 21, 90, 84, 46, 85, 88, 84, 64, 71, 89, 32, 63, 38, 78, 18, 44, 55, 40, 8, 76, 38, 74, 81, 70, 40, 68, 17, 47, 96, 98, 68, 96, 3, 86, 78, 97, 68, 30, 83, 51, 46, 75, 27, 38, 72, 46, 41, 7, 96, 86, 10, 26, 96, 95, 100, 10, 93, 47, 44, 69, 29, 31, 35, 55, 29, 24, 54, 98, 23, 50, 13, 38, 20, 45, 92, 18, 24, 95]\n"
     ]
    }
   ],
   "source": [
    "# Your code here\n",
    "\n",
    "sample_list_2 = []\n",
    "\n",
    "#with a for loop\n",
    "for i in range(80):\n",
    "    num = random.randint(1,100)\n",
    "    sample_list_2.append(num)\n",
    "    \n",
    "print(sample_list_2)"
   ]
  },
  {
   "cell_type": "code",
   "execution_count": 39,
   "metadata": {},
   "outputs": [
    {
     "name": "stdout",
     "output_type": "stream",
     "text": [
      "[28, 36, 68, 92, 74, 79, 77, 54, 34, 23, 94, 61, 83, 18, 57, 35, 25, 99, 4, 97, 85, 38, 96, 52, 80, 22, 30, 61, 18, 33, 31, 32, 73, 38, 44, 18, 67, 67, 31, 88, 15, 51, 80, 1, 78, 31, 28, 81, 48, 67, 28, 83, 83, 20, 88, 70, 84, 81, 75, 90, 27, 52, 2, 31, 51, 40, 28, 72, 87, 22, 20, 55, 51, 17, 7, 15, 46, 58, 42, 37]\n"
     ]
    }
   ],
   "source": [
    "#List comprehension\n",
    "sample_list_2 = [random.randint(1,100) for i in range(80)]\n",
    "\n",
    "print(sample_list_2)"
   ]
  },
  {
   "cell_type": "markdown",
   "metadata": {},
   "source": [
    "#### Convert `sample_list_2` to a set called `set2`. Print the length of the set. Is its length still 80?"
   ]
  },
  {
   "cell_type": "code",
   "execution_count": 40,
   "metadata": {},
   "outputs": [
    {
     "name": "stdout",
     "output_type": "stream",
     "text": [
      "57\n"
     ]
    }
   ],
   "source": [
    "# Your code here\n",
    "set2 = set(sample_list_2)\n",
    "print(len(set2))"
   ]
  },
  {
   "cell_type": "markdown",
   "metadata": {},
   "source": [
    "#### Identify the elements present in `set1` but not in `set2`. Assign the elements to a new set named `set3`."
   ]
  },
  {
   "cell_type": "code",
   "execution_count": 41,
   "metadata": {},
   "outputs": [
    {
     "name": "stdout",
     "output_type": "stream",
     "text": [
      "{0, 3, 5, 6, 8, 9, 10, 12, 13, 14, 16, 21, 24, 26, 29, 41, 43, 45, 47, 49, 53, 56, 59, 60, 62, 63, 64, 65, 66, 69, 76, 91, 93, 95, 98}\n"
     ]
    }
   ],
   "source": [
    "# Your code here\n",
    "#Without list comprehension\n",
    "set3_list = []\n",
    "for elem in set1:\n",
    "    if elem in set1 and elem not in set2:\n",
    "        set3_list.append(elem)\n",
    "\n",
    "set3 = set(set3_list)\n",
    "print(set3)"
   ]
  },
  {
   "cell_type": "code",
   "execution_count": 42,
   "metadata": {},
   "outputs": [
    {
     "name": "stdout",
     "output_type": "stream",
     "text": [
      "{0, 3, 5, 6, 8, 9, 10, 12, 13, 14, 16, 21, 24, 26, 29, 41, 43, 45, 47, 49, 53, 56, 59, 60, 62, 63, 64, 65, 66, 69, 76, 91, 93, 95, 98}\n"
     ]
    }
   ],
   "source": [
    "#List comprehension\n",
    "set3 = {elem for elem in set1 if elem in set1 and elem not in set2}\n",
    "print(set3)"
   ]
  },
  {
   "cell_type": "markdown",
   "metadata": {},
   "source": [
    "#### Identify the elements present in `set2` but not in `set1`. Assign the elements to a new set named `set4`."
   ]
  },
  {
   "cell_type": "code",
   "execution_count": 43,
   "metadata": {},
   "outputs": [
    {
     "name": "stdout",
     "output_type": "stream",
     "text": [
      "{32, 4, 38, 40, 73, 77, 20, 22, 55, 27, 61, 94}\n"
     ]
    }
   ],
   "source": [
    "# Your code here\n",
    "#Without list comprehension\n",
    "set4_list = []\n",
    "\n",
    "for elem in set2:\n",
    "    if elem in set2 and elem not in set1:\n",
    "        set4_list.append(elem)\n",
    "        \n",
    "set4 = set(set4_list)\n",
    "print(set4)"
   ]
  },
  {
   "cell_type": "code",
   "execution_count": 44,
   "metadata": {},
   "outputs": [
    {
     "name": "stdout",
     "output_type": "stream",
     "text": [
      "{32, 4, 38, 40, 73, 77, 20, 22, 55, 27, 61, 94}\n"
     ]
    }
   ],
   "source": [
    "#list comprehension\n",
    "set4 = {elem for elem in set2 if elem in set2 and elem not in set1}\n",
    "print(set4)"
   ]
  },
  {
   "cell_type": "markdown",
   "metadata": {},
   "source": [
    "#### Now Identify the elements shared between `set1` and `set2`. Assign the elements to a new set named `set5`."
   ]
  },
  {
   "cell_type": "code",
   "execution_count": 45,
   "metadata": {},
   "outputs": [
    {
     "name": "stdout",
     "output_type": "stream",
     "text": [
      "{1, 2, 7, 15, 17, 18, 23, 25, 28, 30, 31, 33, 34, 35, 36, 37, 42, 44, 46, 48, 51, 52, 54, 57, 58, 67, 68, 70, 72, 74, 75, 78, 79, 80, 81, 83, 84, 85, 87, 88, 90, 92, 96, 97, 99}\n"
     ]
    }
   ],
   "source": [
    "# Your code here\n",
    "#without list comprehension\n",
    "\n",
    "set5_list = []\n",
    "\n",
    "for elem in set1 and set2:\n",
    "    if elem in set1 and set2:\n",
    "        set5_list.append(elem)\n",
    "\n",
    "set5 = set(set5_list)\n",
    "print(set5)"
   ]
  },
  {
   "cell_type": "code",
   "execution_count": 46,
   "metadata": {},
   "outputs": [
    {
     "name": "stdout",
     "output_type": "stream",
     "text": [
      "{1, 2, 7, 15, 17, 18, 23, 25, 28, 30, 31, 33, 34, 35, 36, 37, 42, 44, 46, 48, 51, 52, 54, 57, 58, 67, 68, 70, 72, 74, 75, 78, 79, 80, 81, 83, 84, 85, 87, 88, 90, 92, 96, 97, 99}\n"
     ]
    }
   ],
   "source": [
    "#list comrpehension\n",
    "\n",
    "set5_list = {elem for elem in set1 and set2 if elem in set1 and set2}\n",
    "print(set5)"
   ]
  },
  {
   "cell_type": "code",
   "execution_count": 14,
   "metadata": {},
   "outputs": [
    {
     "name": "stdout",
     "output_type": "stream",
     "text": [
      "{1, 2, 5, 8, 9, 10, 18, 20, 21, 27, 28, 29, 30, 31, 33, 34, 36, 38, 40, 41, 44, 45, 46, 48, 49, 50, 53, 57, 59, 62, 63, 64, 71, 72, 73, 74, 78, 79, 82, 85, 87, 91, 95, 96, 98}\n"
     ]
    }
   ],
   "source": [
    "#an easier way to do it\n",
    "set5 = set1.intersection(set2)\n",
    "print(set5)"
   ]
  },
  {
   "cell_type": "markdown",
   "metadata": {},
   "source": [
    "#### What is the relationship among the following values:\n",
    "\n",
    "* len(set1)\n",
    "* len(set2)\n",
    "* len(set3)\n",
    "* len(set4)\n",
    "* len(set5)\n",
    "\n",
    "Use a math formular to represent that relationship. Test your formular with Python code."
   ]
  },
  {
   "cell_type": "code",
   "execution_count": 47,
   "metadata": {},
   "outputs": [
    {
     "name": "stdout",
     "output_type": "stream",
     "text": [
      "Set1 80\n",
      "Set2 57\n",
      "Set3 35\n",
      "Set4 12\n",
      "Set5 45\n"
     ]
    }
   ],
   "source": [
    "# Your code here\n",
    "print(\"Set1\", len(set1))\n",
    "print(\"Set2\", len(set2))\n",
    "print(\"Set3\", len(set3))\n",
    "print(\"Set4\", len(set4))\n",
    "print(\"Set5\", len(set5))"
   ]
  },
  {
   "cell_type": "markdown",
   "metadata": {},
   "source": [
    "#### Create an empty set called `set6`."
   ]
  },
  {
   "cell_type": "code",
   "execution_count": 48,
   "metadata": {},
   "outputs": [],
   "source": [
    "# Your code here\n",
    "set6 = set()"
   ]
  },
  {
   "cell_type": "markdown",
   "metadata": {},
   "source": [
    "#### Add `set3` and `set5` to `set6` using the Python Set `update` method."
   ]
  },
  {
   "cell_type": "code",
   "execution_count": 49,
   "metadata": {},
   "outputs": [
    {
     "name": "stdout",
     "output_type": "stream",
     "text": [
      "None\n",
      "{0, 1, 2, 3, 5, 6, 7, 8, 9, 10, 12, 13, 14, 15, 16, 17, 18, 21, 23, 24, 25, 26, 28, 29, 30, 31, 33, 34, 35, 36, 37, 41, 42, 43, 44, 45, 46, 47, 48, 49, 51, 52, 53, 54, 56, 57, 58, 59, 60, 62, 63, 64, 65, 66, 67, 68, 69, 70, 72, 74, 75, 76, 78, 79, 80, 81, 83, 84, 85, 87, 88, 90, 91, 92, 93, 95, 96, 97, 98, 99}\n"
     ]
    }
   ],
   "source": [
    "# Your code here\n",
    "set6 = set3.update(set5)\n",
    "print(set6)\n",
    "#It returns \"None\"\n",
    "\n",
    "#with set.union it returns a set\n",
    "set6 = set3.union(set5)\n",
    "print(set6)"
   ]
  },
  {
   "cell_type": "markdown",
   "metadata": {},
   "source": [
    "#### Check if `set1` and `set6` are equal."
   ]
  },
  {
   "cell_type": "code",
   "execution_count": 18,
   "metadata": {},
   "outputs": [
    {
     "data": {
      "text/plain": [
       "True"
      ]
     },
     "execution_count": 18,
     "metadata": {},
     "output_type": "execute_result"
    }
   ],
   "source": [
    "# Your code here\n",
    "set1 == set6\n"
   ]
  },
  {
   "cell_type": "markdown",
   "metadata": {},
   "source": [
    "#### Check if `set1` contains `set2` using the Python Set `issubset` method. Then check if `set1` contains `set3`.*"
   ]
  },
  {
   "cell_type": "code",
   "execution_count": 50,
   "metadata": {},
   "outputs": [
    {
     "name": "stdout",
     "output_type": "stream",
     "text": [
      "False\n"
     ]
    }
   ],
   "source": [
    "# Your code here\n",
    "set1containsset2 = set2.issubset(set1)\n",
    "print(set1containsset2)"
   ]
  },
  {
   "cell_type": "code",
   "execution_count": 51,
   "metadata": {},
   "outputs": [
    {
     "name": "stdout",
     "output_type": "stream",
     "text": [
      "True\n"
     ]
    }
   ],
   "source": [
    "set1containsset3 = set3.issubset(set1)\n",
    "print(set1containsset3)"
   ]
  },
  {
   "cell_type": "markdown",
   "metadata": {},
   "source": [
    "#### Using the Python Set `union` method, aggregate `set3`, `set4`, and `set5`. Then aggregate `set1` and `set2`. \n",
    "\n",
    "#### Check if the aggregated values are equal."
   ]
  },
  {
   "cell_type": "code",
   "execution_count": 52,
   "metadata": {},
   "outputs": [
    {
     "data": {
      "text/plain": [
       "True"
      ]
     },
     "execution_count": 52,
     "metadata": {},
     "output_type": "execute_result"
    }
   ],
   "source": [
    "# Your code here\n",
    "union3 = set3.union(set4,set5)\n",
    "union2 = set1.union(set2)\n",
    "\n",
    "union3 == union2"
   ]
  },
  {
   "cell_type": "markdown",
   "metadata": {},
   "source": [
    "#### Using the `pop` method, remove the first element from `set1`."
   ]
  },
  {
   "cell_type": "code",
   "execution_count": 53,
   "metadata": {},
   "outputs": [
    {
     "name": "stdout",
     "output_type": "stream",
     "text": [
      "{1, 2, 3, 5, 6, 7, 8, 9, 10, 12, 13, 14, 15, 16, 17, 18, 21, 23, 24, 25, 26, 28, 29, 30, 31, 33, 34, 35, 36, 37, 41, 42, 43, 44, 45, 46, 47, 48, 49, 51, 52, 53, 54, 56, 57, 58, 59, 60, 62, 63, 64, 65, 66, 67, 68, 69, 70, 72, 74, 75, 76, 78, 79, 80, 81, 83, 84, 85, 87, 88, 90, 91, 92, 93, 95, 96, 97, 98, 99}\n"
     ]
    }
   ],
   "source": [
    "# Your code here\n",
    "set1.pop()\n",
    "\n",
    "print(set1)"
   ]
  },
  {
   "cell_type": "markdown",
   "metadata": {},
   "source": [
    "#### Remove every element in the following list from `set1` if they are present in the set. Print the remaining elements.\n",
    "\n",
    "```\n",
    "list_to_remove = [1, 9, 11, 19, 21, 29, 31, 39, 41, 49, 51, 59, 61, 69, 71, 79, 81, 89, 91, 99]\n",
    "```"
   ]
  },
  {
   "cell_type": "code",
   "execution_count": 58,
   "metadata": {},
   "outputs": [
    {
     "ename": "SyntaxError",
     "evalue": "invalid syntax (<ipython-input-58-4deebfb15249>, line 3)",
     "output_type": "error",
     "traceback": [
      "\u001b[0;36m  File \u001b[0;32m\"<ipython-input-58-4deebfb15249>\"\u001b[0;36m, line \u001b[0;32m3\u001b[0m\n\u001b[0;31m    Remove every element in the following list from set1 if they are present in the set. Print the remaining elements.\u001b[0m\n\u001b[0m               ^\u001b[0m\n\u001b[0;31mSyntaxError\u001b[0m\u001b[0;31m:\u001b[0m invalid syntax\n"
     ]
    }
   ],
   "source": [
    "# Your code here\n",
    "\n",
    "list_to_remove = [1, 9, 11, 19, 21, 29, 31, 39, 41, 49, 51, 59, 61, 69, 71, 79, 81, 89, 91, 99]\n",
    "for elem in set1:\n",
    "    if elem in list_to_remove:\n",
    "        set1.remove()\n",
    "        print(set1)"
   ]
  }
 ],
 "metadata": {
  "kernelspec": {
   "display_name": "Python 3",
   "language": "python",
   "name": "python3"
  },
  "language_info": {
   "codemirror_mode": {
    "name": "ipython",
    "version": 3
   },
   "file_extension": ".py",
   "mimetype": "text/x-python",
   "name": "python",
   "nbconvert_exporter": "python",
   "pygments_lexer": "ipython3",
   "version": "3.7.3"
  }
 },
 "nbformat": 4,
 "nbformat_minor": 2
}
