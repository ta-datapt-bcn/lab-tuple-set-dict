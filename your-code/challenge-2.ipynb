{
 "cells": [
  {
   "cell_type": "markdown",
   "metadata": {},
   "source": [
    "## Challenge 2: Sets\n",
    "\n",
    "There are a lot to learn about Python Sets and the information presented in the lesson is limited due to its length. To learn Python Sets in depth you are strongly encouraged to review the W3Schools tutorial on [Python Sets Examples and Methods](https://www.w3schools.com/python/python_sets.asp) before you work on this lab. Some difficult questions in this lab have their solutions in the W3Schools tutorial.\n",
    "\n",
    "#### First, import the Python `random` libary"
   ]
  },
  {
   "cell_type": "code",
   "execution_count": 4,
   "metadata": {},
   "outputs": [],
   "source": [
    "import random"
   ]
  },
  {
   "cell_type": "markdown",
   "metadata": {},
   "source": [
    "#### In the cell below, create a list named `sample_list_1` with 80 random values. \n",
    "\n",
    "Requirements:\n",
    "\n",
    "* Each value is an integer falling between 0 and 100.\n",
    "* Each value in the list is unique.\n",
    "\n",
    "Print `sample_list_1` to review its values\n",
    "\n",
    "*Hint: use `random.sample` ([reference](https://docs.python.org/3/library/random.html#random.sample)).*"
   ]
  },
  {
   "cell_type": "code",
   "execution_count": 5,
   "metadata": {},
   "outputs": [
    {
     "name": "stdout",
     "output_type": "stream",
     "text": [
      "[41, 57, 72, 98, 20, 12, 27, 74, 89, 81, 39, 61, 47, 68, 54, 84, 73, 23, 29, 67, 80, 95, 11, 38, 94, 69, 8, 51, 88, 49, 28, 83, 79, 71, 60, 33, 64, 37, 3, 66, 40, 93, 24, 77, 32, 1, 43, 70, 58, 78, 90, 63, 31, 7, 9, 97, 92, 76, 19, 15, 96, 45, 82, 62, 10, 87, 4, 16, 44, 50, 13, 35, 48, 42, 99, 36, 30, 6, 17, 0]\n"
     ]
    }
   ],
   "source": [
    "# Your code here\n",
    "sample_list_1 = random.sample(range(100),k=80)\n",
    "print(sample_list_1)"
   ]
  },
  {
   "cell_type": "markdown",
   "metadata": {},
   "source": [
    "#### Convert `sample_list_1` to a set called `set1`. Print the length of the set. Is its length still 80?"
   ]
  },
  {
   "cell_type": "code",
   "execution_count": 6,
   "metadata": {},
   "outputs": [
    {
     "name": "stdout",
     "output_type": "stream",
     "text": [
      "80\n"
     ]
    }
   ],
   "source": [
    "# Your code here\n",
    "set1 = set(sample_list_1)\n",
    "print(len(set1))"
   ]
  },
  {
   "cell_type": "markdown",
   "metadata": {},
   "source": [
    "#### Create another list named `sample_list_2` with 80 random values.\n",
    "\n",
    "Requirements:\n",
    "\n",
    "* Each value is an integer falling between 0 and 100.\n",
    "* The values in the list don't have to be unique.\n",
    "\n",
    "*Hint: Use a FOR loop.*"
   ]
  },
  {
   "cell_type": "code",
   "execution_count": 7,
   "metadata": {},
   "outputs": [
    {
     "name": "stdout",
     "output_type": "stream",
     "text": [
      "[93, 13, 37, 56, 79, 50, 53, 50, 92, 40, 59, 60, 18, 21, 14, 52, 5, 61, 90, 25, 4, 97, 15, 13, 82, 7, 94, 22, 52, 59, 57, 33, 79, 20, 12, 51, 96, 10, 72, 10, 55, 70, 41, 87, 48, 90, 95, 12, 100, 52, 73, 55, 32, 82, 51, 2, 47, 46, 18, 58, 67, 97, 100, 92, 45, 91, 20, 96, 58, 57, 41, 21, 83, 60, 10, 82, 29, 21, 80, 7]\n"
     ]
    }
   ],
   "source": [
    "# Your code here\n",
    "\n",
    "sample_list_2 = []\n",
    "\n",
    "#with a for loop\n",
    "for i in range(80):\n",
    "    num = random.randint(1,100)\n",
    "    sample_list_2.append(num)\n",
    "    \n",
    "print(sample_list_2)"
   ]
  },
  {
   "cell_type": "code",
   "execution_count": 8,
   "metadata": {},
   "outputs": [
    {
     "name": "stdout",
     "output_type": "stream",
     "text": [
      "[4, 96, 60, 93, 60, 3, 6, 68, 3, 53, 69, 84, 92, 1, 84, 59, 19, 78, 68, 55, 56, 83, 42, 64, 11, 83, 85, 18, 9, 44, 46, 13, 90, 14, 68, 34, 79, 51, 48, 12, 30, 60, 66, 71, 15, 87, 75, 50, 98, 59, 55, 27, 40, 73, 88, 43, 99, 40, 52, 58, 48, 13, 96, 47, 62, 63, 43, 21, 46, 68, 7, 35, 73, 7, 62, 11, 37, 13, 20, 45]\n"
     ]
    }
   ],
   "source": [
    "#List comprehension\n",
    "sample_list_2 = [random.randint(1,100) for i in range(80)]\n",
    "\n",
    "print(sample_list_2)"
   ]
  },
  {
   "cell_type": "markdown",
   "metadata": {},
   "source": [
    "#### Convert `sample_list_2` to a set called `set2`. Print the length of the set. Is its length still 80?"
   ]
  },
  {
   "cell_type": "code",
   "execution_count": 9,
   "metadata": {},
   "outputs": [
    {
     "name": "stdout",
     "output_type": "stream",
     "text": [
      "59\n"
     ]
    }
   ],
   "source": [
    "# Your code here\n",
    "set2 = set(sample_list_2)\n",
    "print(len(set2))"
   ]
  },
  {
   "cell_type": "markdown",
   "metadata": {},
   "source": [
    "#### Identify the elements present in `set1` but not in `set2`. Assign the elements to a new set named `set3`."
   ]
  },
  {
   "cell_type": "code",
   "execution_count": 31,
   "metadata": {},
   "outputs": [
    {
     "name": "stdout",
     "output_type": "stream",
     "text": [
      "{0, 8, 10, 16, 17, 23, 24, 28, 29, 31, 32, 33, 36, 38, 39, 41, 49, 54, 57, 61, 67, 70, 72, 74, 76, 77, 80, 81, 82, 89, 94, 95, 97}\n"
     ]
    }
   ],
   "source": [
    "# Your code here\n",
    "#Without list comprehension\n",
    "set3_list = []\n",
    "for elem in set1:\n",
    "    if elem in set1 and elem not in set2:\n",
    "        set3_list.append(elem)\n",
    "\n",
    "set3 = set(set3_list)\n",
    "print(set3)"
   ]
  },
  {
   "cell_type": "code",
   "execution_count": 24,
   "metadata": {},
   "outputs": [
    {
     "name": "stdout",
     "output_type": "stream",
     "text": [
      "{0, 8, 10, 16, 17, 23, 24, 28, 29, 31, 32, 33, 36, 38, 39, 41, 49, 54, 57, 61, 67, 70, 72, 74, 76, 77, 80, 81, 82, 89, 94, 95, 97}\n"
     ]
    }
   ],
   "source": [
    "#List comprehension\n",
    "set3 = {elem for elem in set1 if elem in set1 and elem not in set2}\n",
    "print(set3)"
   ]
  },
  {
   "cell_type": "markdown",
   "metadata": {},
   "source": [
    "#### Identify the elements present in `set2` but not in `set1`. Assign the elements to a new set named `set4`."
   ]
  },
  {
   "cell_type": "code",
   "execution_count": 20,
   "metadata": {},
   "outputs": [
    {
     "name": "stdout",
     "output_type": "stream",
     "text": [
      "{34, 75, 46, 14, 18, 52, 21, 53, 55, 56, 85, 59}\n"
     ]
    }
   ],
   "source": [
    "# Your code here\n",
    "#Without list comprehension\n",
    "set4_list = []\n",
    "\n",
    "for elem in set2:\n",
    "    if elem in set2 and elem not in set1:\n",
    "        set4_list.append(elem)\n",
    "        \n",
    "set4 = set(set4_list)\n",
    "print(set4)"
   ]
  },
  {
   "cell_type": "code",
   "execution_count": 23,
   "metadata": {},
   "outputs": [
    {
     "name": "stdout",
     "output_type": "stream",
     "text": [
      "{34, 75, 46, 14, 18, 52, 21, 53, 55, 56, 85, 59}\n"
     ]
    }
   ],
   "source": [
    "#list comprehension\n",
    "set4 = {elem for elem in set2 if elem in set2 and elem not in set1}\n",
    "print(set4)"
   ]
  },
  {
   "cell_type": "markdown",
   "metadata": {},
   "source": [
    "#### Now Identify the elements shared between `set1` and `set2`. Assign the elements to a new set named `set5`."
   ]
  },
  {
   "cell_type": "code",
   "execution_count": 14,
   "metadata": {},
   "outputs": [
    {
     "name": "stdout",
     "output_type": "stream",
     "text": [
      "{1, 3, 4, 6, 7, 9, 11, 12, 13, 15, 19, 20, 27, 30, 35, 37, 40, 42, 43, 44, 45, 47, 48, 50, 51, 58, 60, 62, 63, 64, 66, 68, 69, 71, 73, 78, 79, 83, 84, 87, 88, 90, 92, 93, 96, 98, 99}\n"
     ]
    }
   ],
   "source": [
    "# Your code here\n",
    "#without list comprehension\n",
    "\n",
    "set5_list = []\n",
    "\n",
    "for elem in set1 and set2:\n",
    "    if elem in set1 and set2:\n",
    "        set5_list.append(elem)\n",
    "\n",
    "set5 = set(set5_list)\n",
    "print(set5)"
   ]
  },
  {
   "cell_type": "code",
   "execution_count": 26,
   "metadata": {},
   "outputs": [
    {
     "name": "stdout",
     "output_type": "stream",
     "text": [
      "{1, 3, 4, 6, 7, 9, 11, 12, 13, 15, 19, 20, 27, 30, 35, 37, 40, 42, 43, 44, 45, 47, 48, 50, 51, 58, 60, 62, 63, 64, 66, 68, 69, 71, 73, 78, 79, 83, 84, 87, 88, 90, 92, 93, 96, 98, 99}\n"
     ]
    }
   ],
   "source": [
    "#list comrpehension\n",
    "\n",
    "set5_list = {elem for elem in set1 and set2 if elem in set1 and set2}\n",
    "print(set5)"
   ]
  },
  {
   "cell_type": "code",
   "execution_count": 37,
   "metadata": {},
   "outputs": [
    {
     "name": "stdout",
     "output_type": "stream",
     "text": [
      "{1, 3, 4, 6, 7, 9, 11, 12, 13, 15, 19, 20, 27, 30, 35, 37, 40, 42, 43, 44, 45, 47, 48, 50, 51, 58, 60, 62, 63, 64, 66, 68, 69, 71, 73, 78, 79, 83, 84, 87, 88, 90, 92, 93, 96, 98, 99}\n"
     ]
    }
   ],
   "source": [
    "#an easier way to do it\n",
    "set5 = set1.intersection(set2)\n",
    "print(set5)"
   ]
  },
  {
   "cell_type": "markdown",
   "metadata": {},
   "source": [
    "#### What is the relationship among the following values:\n",
    "\n",
    "* len(set1)\n",
    "* len(set2)\n",
    "* len(set3)\n",
    "* len(set4)\n",
    "* len(set5)\n",
    "\n",
    "Use a math formular to represent that relationship. Test your formular with Python code."
   ]
  },
  {
   "cell_type": "code",
   "execution_count": 27,
   "metadata": {},
   "outputs": [
    {
     "name": "stdout",
     "output_type": "stream",
     "text": [
      "Set1 80\n",
      "Set2 59\n",
      "Set3 33\n",
      "Set4 12\n",
      "Set5 47\n"
     ]
    }
   ],
   "source": [
    "# Your code here\n",
    "print(\"Set1\", len(set1))\n",
    "print(\"Set2\", len(set2))\n",
    "print(\"Set3\", len(set3))\n",
    "print(\"Set4\", len(set4))\n",
    "print(\"Set5\", len(set5))"
   ]
  },
  {
   "cell_type": "markdown",
   "metadata": {},
   "source": [
    "#### Create an empty set called `set6`."
   ]
  },
  {
   "cell_type": "code",
   "execution_count": 33,
   "metadata": {},
   "outputs": [],
   "source": [
    "# Your code here\n",
    "set6 = set()"
   ]
  },
  {
   "cell_type": "markdown",
   "metadata": {},
   "source": [
    "#### Add `set3` and `set5` to `set6` using the Python Set `update` method."
   ]
  },
  {
   "cell_type": "code",
   "execution_count": 43,
   "metadata": {},
   "outputs": [
    {
     "name": "stdout",
     "output_type": "stream",
     "text": [
      "None\n",
      "{0, 1, 3, 4, 6, 7, 8, 9, 10, 11, 12, 13, 15, 16, 17, 19, 20, 23, 24, 27, 28, 29, 30, 31, 32, 33, 35, 36, 37, 38, 39, 40, 41, 42, 43, 44, 45, 47, 48, 49, 50, 51, 54, 57, 58, 60, 61, 62, 63, 64, 66, 67, 68, 69, 70, 71, 72, 73, 74, 76, 77, 78, 79, 80, 81, 82, 83, 84, 87, 88, 89, 90, 92, 93, 94, 95, 96, 97, 98, 99}\n"
     ]
    }
   ],
   "source": [
    "# Your code here\n",
    "set6 = set3.update(set5)\n",
    "print(set6)\n",
    "#It returns \"None\"\n",
    "\n",
    "#with set.union it returns a set\n",
    "set6 = set3.union(set5)\n",
    "print(set6)"
   ]
  },
  {
   "cell_type": "markdown",
   "metadata": {},
   "source": [
    "#### Check if `set1` and `set6` are equal."
   ]
  },
  {
   "cell_type": "code",
   "execution_count": 45,
   "metadata": {},
   "outputs": [
    {
     "data": {
      "text/plain": [
       "True"
      ]
     },
     "execution_count": 45,
     "metadata": {},
     "output_type": "execute_result"
    }
   ],
   "source": [
    "# Your code here\n",
    "set1 == set6\n"
   ]
  },
  {
   "cell_type": "markdown",
   "metadata": {},
   "source": [
    "#### Check if `set1` contains `set2` using the Python Set `issubset` method. Then check if `set1` contains `set3`.*"
   ]
  },
  {
   "cell_type": "code",
   "execution_count": null,
   "metadata": {},
   "outputs": [],
   "source": [
    "# Your code here\n"
   ]
  },
  {
   "cell_type": "markdown",
   "metadata": {},
   "source": [
    "#### Using the Python Set `union` method, aggregate `set3`, `set4`, and `set5`. Then aggregate `set1` and `set2`. \n",
    "\n",
    "#### Check if the aggregated values are equal."
   ]
  },
  {
   "cell_type": "code",
   "execution_count": null,
   "metadata": {},
   "outputs": [],
   "source": [
    "# Your code here\n"
   ]
  },
  {
   "cell_type": "markdown",
   "metadata": {},
   "source": [
    "#### Using the `pop` method, remove the first element from `set1`."
   ]
  },
  {
   "cell_type": "code",
   "execution_count": null,
   "metadata": {},
   "outputs": [],
   "source": [
    "# Your code here\n"
   ]
  },
  {
   "cell_type": "markdown",
   "metadata": {},
   "source": [
    "#### Remove every element in the following list from `set1` if they are present in the set. Print the remaining elements.\n",
    "\n",
    "```\n",
    "list_to_remove = [1, 9, 11, 19, 21, 29, 31, 39, 41, 49, 51, 59, 61, 69, 71, 79, 81, 89, 91, 99]\n",
    "```"
   ]
  },
  {
   "cell_type": "code",
   "execution_count": null,
   "metadata": {},
   "outputs": [],
   "source": [
    "# Your code here\n"
   ]
  }
 ],
 "metadata": {
  "kernelspec": {
   "display_name": "Python 3",
   "language": "python",
   "name": "python3"
  },
  "language_info": {
   "codemirror_mode": {
    "name": "ipython",
    "version": 3
   },
   "file_extension": ".py",
   "mimetype": "text/x-python",
   "name": "python",
   "nbconvert_exporter": "python",
   "pygments_lexer": "ipython3",
   "version": "3.7.3"
  }
 },
 "nbformat": 4,
 "nbformat_minor": 2
}
